{
 "cells": [
  {
   "cell_type": "code",
   "execution_count": 1,
   "metadata": {},
   "outputs": [],
   "source": [
    "import torch\n",
    "import torchvision.models as models\n",
    "import torch.nn.functional as F\n",
    "import numpy as np\n",
    "import os\n",
    "import albumentations\n",
    "from albumentations.pytorch.transforms import ToTensor\n",
    "from tqdm.notebook import tqdm\n",
    "import matplotlib.pyplot as plt\n",
    "import seaborn as sns\n",
    "try:\n",
    "    %config InlineBackend.figure_format = 'retina'\n",
    "    plt.style.use('https://github.com/dhaitz/matplotlib-stylesheets/raw/master/pitayasmoothie-dark.mplstyle')\n",
    "except:\n",
    "    pass"
   ]
  },
  {
   "cell_type": "code",
   "execution_count": 2,
   "metadata": {},
   "outputs": [],
   "source": [
    "EPOCH = 500\n",
    "#set to 1000 for composition7, 10000 for starry night\n",
    "alpha = 1000\n",
    "img_x = 768\n",
    "img_y = int(3*img_x/4)\n",
    "device = 'cuda'\n",
    "content_reference = 'heidelberg.jpg'\n",
    "style_reference = 'composition7.jpg'"
   ]
  },
  {
   "cell_type": "code",
   "execution_count": 3,
   "metadata": {},
   "outputs": [],
   "source": [
    "C_orig = plt.imread(content_reference)\n",
    "S_orig = plt.imread(style_reference)"
   ]
  },
  {
   "cell_type": "code",
   "execution_count": 4,
   "metadata": {},
   "outputs": [],
   "source": [
    "transform = albumentations.Compose([\n",
    "    albumentations.Resize(img_y,img_x,always_apply=True),\n",
    "    albumentations.Normalize(always_apply=True),\n",
    "    ToTensor()\n",
    "])\n",
    "\n",
    "class UnNormalize(object):\n",
    "    def __init__(self, mean, std):\n",
    "        self.mean = mean\n",
    "        self.std = std\n",
    "\n",
    "    def __call__(self, tensor):\n",
    "        \"\"\"\n",
    "        Args:\n",
    "            tensor (Tensor): Tensor image of size (C, H, W) to be normalized.\n",
    "        Returns:\n",
    "            Tensor: Normalized image.\n",
    "        \"\"\"\n",
    "        for t, m, s in zip(tensor, self.mean, self.std):\n",
    "            t.mul_(s).add_(m)\n",
    "            # The normalize code -> t.sub_(m).div_(s)\n",
    "        return tensor\n",
    "\n",
    "unorm = UnNormalize(mean=(0.485, 0.456, 0.406), std=(0.229, 0.224, 0.225))"
   ]
  },
  {
   "cell_type": "code",
   "execution_count": 5,
   "metadata": {},
   "outputs": [],
   "source": [
    "def gram_matrix(filter):\n",
    "    batch_size, nc, h, w = filter.shape\n",
    "    g = filter.view(batch_size*nc, h*w)\n",
    "    gram = torch.mm(g, g.t())\n",
    "    return gram"
   ]
  },
  {
   "cell_type": "code",
   "execution_count": 6,
   "metadata": {},
   "outputs": [],
   "source": [
    "def save_image(G, epoch):\n",
    "    image = unorm(G.squeeze())\n",
    "    image = image.numpy()\n",
    "    image = np.transpose(image, (1,2,0))\n",
    "    image = np.clip(image, 0, 1)\n",
    "    plt.imsave(f'generated/generated_{epoch}.jpg', image)\n",
    "    pass"
   ]
  },
  {
   "cell_type": "code",
   "execution_count": 7,
   "metadata": {},
   "outputs": [],
   "source": [
    "C = transform(image=C_orig)['image'].unsqueeze(0).to(device)\n",
    "S = transform(image=S_orig)['image'].unsqueeze(0).to(device)\n",
    "model = models.vgg16(pretrained=True).to(device)\n",
    "for param in model.parameters():\n",
    "    param.requires_grad = False\n",
    "G = torch.tensor(C.cpu().numpy(), requires_grad=True, device=device)\n",
    "optimizer = torch.optim.LBFGS([G])"
   ]
  },
  {
   "cell_type": "code",
   "execution_count": 8,
   "metadata": {},
   "outputs": [],
   "source": [
    "losses = {'content':[], 'style': [], 'total':[]}"
   ]
  },
  {
   "cell_type": "code",
   "execution_count": 9,
   "metadata": {},
   "outputs": [],
   "source": [
    "model_layers = [\n",
    "    (1,8),\n",
    "    (8,15),\n",
    "    (15,22),\n",
    "    (22,29)\n",
    "]"
   ]
  },
  {
   "cell_type": "code",
   "execution_count": 10,
   "metadata": {
    "tags": []
   },
   "outputs": [
    {
     "output_type": "display_data",
     "data": {
      "text/plain": "HBox(children=(FloatProgress(value=0.0, max=500.0), HTML(value='')))",
      "application/vnd.jupyter.widget-view+json": {
       "version_major": 2,
       "version_minor": 0,
       "model_id": "d8fb701805a3411b822df7c9c8f48088"
      }
     },
     "metadata": {}
    },
    {
     "output_type": "stream",
     "name": "stdout",
     "text": "Epoch: 49, Content Loss: 39.47065353393555, Style Loss: 0.08836545795202255, Loss: 127.83610534667969\n\nEpoch: 99, Content Loss: 29.25897979736328, Style Loss: 0.03255460783839226, Loss: 61.8135871887207\n\nEpoch: 149, Content Loss: 23.554365158081055, Style Loss: 0.018975842744112015, Loss: 42.530208587646484\n\nEpoch: 199, Content Loss: 20.43074607849121, Style Loss: 0.013520521111786366, Loss: 33.95126724243164\n\nEpoch: 249, Content Loss: 18.435436248779297, Style Loss: 0.010752192698419094, Loss: 29.18762969970703\n\nEpoch: 299, Content Loss: 16.903329849243164, Style Loss: 0.00879675429314375, Loss: 25.700084686279297\n\nEpoch: 349, Content Loss: 15.760053634643555, Style Loss: 0.007371635176241398, Loss: 23.131689071655273\n\nEpoch: 399, Content Loss: 14.831457138061523, Style Loss: 0.006336827762424946, Loss: 21.168285369873047\n\nEpoch: 449, Content Loss: 14.076849937438965, Style Loss: 0.005540180020034313, Loss: 19.61703109741211\n\nEpoch: 499, Content Loss: 13.493048667907715, Style Loss: 0.005063063930720091, Loss: 18.55611228942871\n\n\n"
    }
   ],
   "source": [
    "pbar = tqdm(total=EPOCH)\n",
    "\n",
    "epoch=0\n",
    "while epoch<=EPOCH:\n",
    "\n",
    "    #function for LBFGS optimizer to call\n",
    "    def closure():\n",
    "        global epoch\n",
    "\n",
    "        #compute content loss\n",
    "        content_G = model.features[:20](G)\n",
    "        content_C = model.features[:20](C)\n",
    "        loss_content = F.mse_loss(content_G, content_C)\n",
    "        \n",
    "        #get intermediate representations for style loss\n",
    "        layers_G = [model.features[0](G)]\n",
    "        layers_S = [model.features[0](S)]\n",
    "        for idx in model_layers:\n",
    "            layers_G.append(model.features[idx[0]:idx[1]](layers_G[-1]))\n",
    "            layers_S.append(model.features[idx[0]:idx[1]](layers_S[-1]))\n",
    "\n",
    "        #compute style loss using gram matrix\n",
    "        style_losses = []\n",
    "        for g, s in zip(layers_G, layers_S):\n",
    "            num_channels = g.shape[1]\n",
    "            num_pixels = g.shape[2]\n",
    "            factor = 4*num_channels*num_channels*num_pixels*num_pixels\n",
    "            style_losses.append(F.mse_loss(gram_matrix(g), gram_matrix(s))/factor)\n",
    "\n",
    "        loss_style = sum(style_losses)/len(style_losses)  #equal weights for each layer\n",
    "\n",
    "        #total loss\n",
    "        loss = loss_content + alpha*loss_style\n",
    "\n",
    "        #backprop\n",
    "        optimizer.zero_grad()\n",
    "        loss.backward()\n",
    "\n",
    "        #log metrics\n",
    "        losses['content'].append(loss_content.item())\n",
    "        losses['style'].append(alpha*loss_style.item())\n",
    "        losses['total'].append(loss.item())\n",
    "        if (epoch+1)%50==0:\n",
    "            tqdm.write(f'Epoch: {epoch}, Content Loss: {loss_content.item()}, Style Loss: {loss_style.item()}, Loss: {loss.item()}\\n')\n",
    "            save_image(G.cpu().detach(), epoch)\n",
    "        pbar.update()\n",
    "        epoch+=1\n",
    "\n",
    "        return loss\n",
    "\n",
    "    optimizer.step(closure)\n",
    "    \n",
    "pbar.close()"
   ]
  },
  {
   "cell_type": "code",
   "execution_count": 12,
   "metadata": {},
   "outputs": [
    {
     "output_type": "execute_result",
     "data": {
      "text/plain": "Text(0, 0.5, 'Loss')"
     },
     "metadata": {},
     "execution_count": 12
    },
    {
     "output_type": "display_data",
     "data": {
      "text/plain": "<Figure size 432x288 with 1 Axes>",
      "image/png": "[encoded data removed]"
     },
     "metadata": {
      "image/png": {
       "width": 388,
       "height": 258
      }
     }
    }
   ],
   "source": [
    "sns.lineplot(x=list(range(len(losses['content']))), y=losses['content'])\n",
    "sns.lineplot(x=list(range(len(losses['style']))), y=losses['style'])\n",
    "sns.lineplot(x=list(range(len(losses['total']))), y=losses['total'])\n",
    "plt.legend(['Content','Style','Total'])\n",
    "plt.xlabel('Epoch')\n",
    "plt.ylabel('Loss')\n",
    "plt.ylim(0,1000)"
   ]
  },
  {
   "cell_type": "code",
   "execution_count": null,
   "metadata": {},
   "outputs": [],
   "source": []
  }
 ],
 "metadata": {
  "language_info": {
   "codemirror_mode": {
    "name": "ipython",
    "version": 3
   },
   "file_extension": ".py",
   "mimetype": "text/x-python",
   "name": "python",
   "nbconvert_exporter": "python",
   "pygments_lexer": "ipython3",
   "version": "3.7.6-final"
  },
  "orig_nbformat": 2,
  "kernelspec": {
   "name": "python37664bitbaseconda7fa1e6f5acb04be48e37b7b5874798d0",
   "display_name": "Python 3.7.6 64-bit ('base': conda)"
  }
 },
 "nbformat": 4,
 "nbformat_minor": 2
}